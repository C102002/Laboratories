{
  "cells": [
    {
      "cell_type": "markdown",
      "metadata": {
        "id": "sGWFP038O-T3"
      },
      "source": [
        "# Procedimiento"
      ]
    },
    {
      "cell_type": "markdown",
      "metadata": {
        "id": "KpmDWKHATsyQ"
      },
      "source": [
        "# Dependencias\n",
        "\n",
        "Descarga de dependencias"
      ]
    },
    {
      "cell_type": "code",
      "execution_count": 6,
      "metadata": {
        "colab": {
          "base_uri": "https://localhost:8080/"
        },
        "id": "MAtz2e03OxXx",
        "outputId": "4b26deb0-a18f-461e-b466-6044ee21506c"
      },
      "outputs": [
        {
          "name": "stdout",
          "output_type": "stream",
          "text": [
            "Note: you may need to restart the kernel to use updated packages.\n"
          ]
        },
        {
          "name": "stderr",
          "output_type": "stream",
          "text": [
            "El sistema no puede encontrar la ruta especificada.\n"
          ]
        }
      ],
      "source": [
        "%pip install huggingsound"
      ]
    },
    {
      "cell_type": "markdown",
      "metadata": {
        "id": "yfHcmXNlPIN2"
      },
      "source": [
        "## 1. Transcripción:\n",
        "Utiliza el siguiente código Python para transcribir el audio del video proporcionado. Este código emplea el modelo jonatasgrosman/wav2vec2-large-xlsr-53-spanish, que está ajustado para el reconocimiento de voz en español.\n",
        "\n",
        "Python\n",
        "``` python\n",
        "from huggingsound import SpeechRecognitionModel\n",
        "\n",
        "model = SpeechRecognitionModel(\"jonatasgrosman/wav2vec2-large-xlsr-53-spanish\")\n",
        "audio_paths = [\"/ruta/a/archivo.mp3\", \"/ruta/a/otro_archivo.wav\"] # Reemplaza con la ruta real del archivo de audio si es necesario\n",
        "\n",
        "transcriptions = model.transcribe(audio_paths)\n",
        "print(transcriptions)\n",
        "\n",
        "```\n",
        "### Nota: Es posible que necesites descargar el audio del video de YouTube y guardarlo como un archivo MP3 o WAV. Puedes usar librerías como youtube-dl o convertidores en línea para hacerlo. Reemplaza \"/ruta/a/archivo.mp3\" con la ruta correcta a tu archivo de audio."
      ]
    },
    {
      "cell_type": "code",
      "execution_count": 7,
      "metadata": {
        "id": "jcdtqezkPYaZ"
      },
      "outputs": [
        {
          "ename": "ModuleNotFoundError",
          "evalue": "No module named 'huggingsound'",
          "output_type": "error",
          "traceback": [
            "\u001b[31m---------------------------------------------------------------------------\u001b[39m",
            "\u001b[31mModuleNotFoundError\u001b[39m                       Traceback (most recent call last)",
            "\u001b[36mCell\u001b[39m\u001b[36m \u001b[39m\u001b[32mIn[7]\u001b[39m\u001b[32m, line 1\u001b[39m\n\u001b[32m----> \u001b[39m\u001b[32m1\u001b[39m \u001b[38;5;28;01mfrom\u001b[39;00m\u001b[38;5;250m \u001b[39m\u001b[34;01mhuggingsound\u001b[39;00m\u001b[38;5;250m \u001b[39m\u001b[38;5;28;01mimport\u001b[39;00m SpeechRecognitionModel\n\u001b[32m      3\u001b[39m model = SpeechRecognitionModel(\u001b[33m\"\u001b[39m\u001b[33mjonatasgrosman/wav2vec2-large-xlsr-53-spanish\u001b[39m\u001b[33m\"\u001b[39m)\n\u001b[32m      4\u001b[39m audio_paths = [\u001b[33m\"\u001b[39m\u001b[33m/ruta/a/archivo.mp3\u001b[39m\u001b[33m\"\u001b[39m, \u001b[33m\"\u001b[39m\u001b[33m/ruta/a/otro_archivo.wav\u001b[39m\u001b[33m\"\u001b[39m] \u001b[38;5;66;03m# Reemplaza con la ruta real del archivo de audio si es necesario\u001b[39;00m\n",
            "\u001b[31mModuleNotFoundError\u001b[39m: No module named 'huggingsound'"
          ]
        }
      ],
      "source": [
        "from huggingsound import SpeechRecognitionModel\n",
        "\n",
        "model = SpeechRecognitionModel(\"jonatasgrosman/wav2vec2-large-xlsr-53-spanish\")\n",
        "audio_paths = [\"/ruta/a/archivo.mp3\", \"/ruta/a/otro_archivo.wav\"] # Reemplaza con la ruta real del archivo de audio si es necesario\n",
        "\n",
        "transcriptions = model.transcribe(audio_paths)\n",
        "print(transcriptions)"
      ]
    },
    {
      "cell_type": "markdown",
      "metadata": {
        "id": "EF9rB2MCPYuc"
      },
      "source": [
        "## 2. Preprocesamiento:\n",
        "* Como se explica en el video, el preprocesamiento de PLN es crucial para preparar los datos de texto para el análisis. El video cubre los siguientes pasos de preprocesamiento:\n",
        "  * Eliminación de ruido\n",
        "  * Normalización\n",
        "  * Tokenización\n",
        "  * Eliminación de \"stop words\" (palabras vacías)\n",
        "  * Stemming y Lemmatización\n",
        "* Elige al menos tres de estas técnicas de preprocesamiento y aplícalas a una muestra del texto transcrito. Puedes usar librerías como nltk o spaCy en Python.\n",
        "* Explica por qué elegiste estas técnicas específicas y cómo afectan al texto."
      ]
    }
  ],
  "metadata": {
    "colab": {
      "provenance": []
    },
    "kernelspec": {
      "display_name": ".venv",
      "language": "python",
      "name": "python3"
    },
    "language_info": {
      "codemirror_mode": {
        "name": "ipython",
        "version": 3
      },
      "file_extension": ".py",
      "mimetype": "text/x-python",
      "name": "python",
      "nbconvert_exporter": "python",
      "pygments_lexer": "ipython3",
      "version": "3.9.13"
    }
  },
  "nbformat": 4,
  "nbformat_minor": 0
}
